{
 "cells": [
  {
   "cell_type": "code",
   "execution_count": 53,
   "metadata": {},
   "outputs": [],
   "source": [
    "import pandas as pd\n",
    "import numpy as np\n",
    "from glob import glob\n",
    "import matplotlib.pyplot as plt\n",
    "import seaborn as sns"
   ]
  },
  {
   "cell_type": "code",
   "execution_count": 2,
   "metadata": {},
   "outputs": [],
   "source": [
    "#The glob module finds all the pathnames matching a specified pattern according to the rules used by the Unix shell\n",
    "#Begin by downloading all the csv files from https://cycling.data.tfl.gov.uk/ and save them in the same directory. \n",
    "#Call glob to find all files. \n",
    "all_files = glob('bike_data/*JourneyDataExtract*.csv')"
   ]
  },
  {
   "cell_type": "code",
   "execution_count": 3,
   "metadata": {},
   "outputs": [],
   "source": [
    "#Concatenate all files in one single dataframe. \n",
    "\n",
    "bike_data = pd.concat((pd.read_csv(file).assign(filename = file)\n",
    "          for file in all_files), ignore_index = True)"
   ]
  },
  {
   "cell_type": "code",
   "execution_count": 4,
   "metadata": {},
   "outputs": [
    {
     "data": {
      "text/html": [
       "<div>\n",
       "<style scoped>\n",
       "    .dataframe tbody tr th:only-of-type {\n",
       "        vertical-align: middle;\n",
       "    }\n",
       "\n",
       "    .dataframe tbody tr th {\n",
       "        vertical-align: top;\n",
       "    }\n",
       "\n",
       "    .dataframe thead th {\n",
       "        text-align: right;\n",
       "    }\n",
       "</style>\n",
       "<table border=\"1\" class=\"dataframe\">\n",
       "  <thead>\n",
       "    <tr style=\"text-align: right;\">\n",
       "      <th></th>\n",
       "      <th>Rental Id</th>\n",
       "      <th>Duration</th>\n",
       "      <th>Bike Id</th>\n",
       "      <th>End Date</th>\n",
       "      <th>EndStation Id</th>\n",
       "      <th>EndStation Name</th>\n",
       "      <th>Start Date</th>\n",
       "      <th>StartStation Id</th>\n",
       "      <th>StartStation Name</th>\n",
       "      <th>filename</th>\n",
       "    </tr>\n",
       "  </thead>\n",
       "  <tbody>\n",
       "    <tr>\n",
       "      <th>0</th>\n",
       "      <td>73768697</td>\n",
       "      <td>1620</td>\n",
       "      <td>7457</td>\n",
       "      <td>10/03/2018 12:41</td>\n",
       "      <td>807</td>\n",
       "      <td>Bevington Road West, North Kensington</td>\n",
       "      <td>10/03/2018 12:14</td>\n",
       "      <td>647</td>\n",
       "      <td>Richmond Way, Shepherd's Bush</td>\n",
       "      <td>bike_data\\100JourneyDataExtract07Mar2018-13Mar...</td>\n",
       "    </tr>\n",
       "    <tr>\n",
       "      <th>1</th>\n",
       "      <td>73703818</td>\n",
       "      <td>180</td>\n",
       "      <td>10899</td>\n",
       "      <td>07/03/2018 15:14</td>\n",
       "      <td>446</td>\n",
       "      <td>York Hall, Bethnal Green</td>\n",
       "      <td>07/03/2018 15:11</td>\n",
       "      <td>722</td>\n",
       "      <td>Finnis Street, Bethnal Green</td>\n",
       "      <td>bike_data\\100JourneyDataExtract07Mar2018-13Mar...</td>\n",
       "    </tr>\n",
       "    <tr>\n",
       "      <th>2</th>\n",
       "      <td>73729421</td>\n",
       "      <td>1020</td>\n",
       "      <td>4813</td>\n",
       "      <td>08/03/2018 13:57</td>\n",
       "      <td>159</td>\n",
       "      <td>Great Marlborough Street, Soho</td>\n",
       "      <td>08/03/2018 13:40</td>\n",
       "      <td>797</td>\n",
       "      <td>Ossulston Street, Somers Town</td>\n",
       "      <td>bike_data\\100JourneyDataExtract07Mar2018-13Mar...</td>\n",
       "    </tr>\n",
       "    <tr>\n",
       "      <th>3</th>\n",
       "      <td>73749828</td>\n",
       "      <td>240</td>\n",
       "      <td>8307</td>\n",
       "      <td>09/03/2018 08:57</td>\n",
       "      <td>578</td>\n",
       "      <td>Hollybush Gardens, Bethnal Green</td>\n",
       "      <td>09/03/2018 08:53</td>\n",
       "      <td>719</td>\n",
       "      <td>Victoria Park Road, Hackney Central</td>\n",
       "      <td>bike_data\\100JourneyDataExtract07Mar2018-13Mar...</td>\n",
       "    </tr>\n",
       "    <tr>\n",
       "      <th>4</th>\n",
       "      <td>73822143</td>\n",
       "      <td>240</td>\n",
       "      <td>8433</td>\n",
       "      <td>13/03/2018 07:00</td>\n",
       "      <td>578</td>\n",
       "      <td>Hollybush Gardens, Bethnal Green</td>\n",
       "      <td>13/03/2018 06:56</td>\n",
       "      <td>719</td>\n",
       "      <td>Victoria Park Road, Hackney Central</td>\n",
       "      <td>bike_data\\100JourneyDataExtract07Mar2018-13Mar...</td>\n",
       "    </tr>\n",
       "  </tbody>\n",
       "</table>\n",
       "</div>"
      ],
      "text/plain": [
       "   Rental Id  Duration  Bike Id          End Date  EndStation Id  \\\n",
       "0   73768697      1620     7457  10/03/2018 12:41            807   \n",
       "1   73703818       180    10899  07/03/2018 15:14            446   \n",
       "2   73729421      1020     4813  08/03/2018 13:57            159   \n",
       "3   73749828       240     8307  09/03/2018 08:57            578   \n",
       "4   73822143       240     8433  13/03/2018 07:00            578   \n",
       "\n",
       "                         EndStation Name        Start Date  StartStation Id  \\\n",
       "0  Bevington Road West, North Kensington  10/03/2018 12:14              647   \n",
       "1               York Hall, Bethnal Green  07/03/2018 15:11              722   \n",
       "2         Great Marlborough Street, Soho  08/03/2018 13:40              797   \n",
       "3       Hollybush Gardens, Bethnal Green  09/03/2018 08:53              719   \n",
       "4       Hollybush Gardens, Bethnal Green  13/03/2018 06:56              719   \n",
       "\n",
       "                     StartStation Name  \\\n",
       "0        Richmond Way, Shepherd's Bush   \n",
       "1         Finnis Street, Bethnal Green   \n",
       "2        Ossulston Street, Somers Town   \n",
       "3  Victoria Park Road, Hackney Central   \n",
       "4  Victoria Park Road, Hackney Central   \n",
       "\n",
       "                                            filename  \n",
       "0  bike_data\\100JourneyDataExtract07Mar2018-13Mar...  \n",
       "1  bike_data\\100JourneyDataExtract07Mar2018-13Mar...  \n",
       "2  bike_data\\100JourneyDataExtract07Mar2018-13Mar...  \n",
       "3  bike_data\\100JourneyDataExtract07Mar2018-13Mar...  \n",
       "4  bike_data\\100JourneyDataExtract07Mar2018-13Mar...  "
      ]
     },
     "execution_count": 4,
     "metadata": {},
     "output_type": "execute_result"
    }
   ],
   "source": [
    "#the new dataframe:\n",
    "\n",
    "bike_data.head()"
   ]
  },
  {
   "cell_type": "code",
   "execution_count": 5,
   "metadata": {},
   "outputs": [],
   "source": [
    "#dropping the filename column: \n",
    "\n",
    "bike_data.drop(['filename'], axis = 1, inplace = True)"
   ]
  },
  {
   "cell_type": "code",
   "execution_count": 6,
   "metadata": {},
   "outputs": [],
   "source": [
    "#Converting the Start Date 'string' into a datetime object\n",
    "\n",
    "from datetime import datetime\n",
    "def str_to_time(str): \n",
    "  \n",
    "    return datetime.strptime(str, \"%d/%m/%Y %H:%M\")"
   ]
  },
  {
   "cell_type": "code",
   "execution_count": 7,
   "metadata": {},
   "outputs": [],
   "source": [
    "bike_data['DateTime'] = bike_data['Start Date'].apply(str_to_time)\n",
    "bike_data['Start Date'] = bike_data['Start Date'].apply(str_to_time)\n",
    "bike_data['End Date'] = bike_data['End Date'].apply(str_to_time)"
   ]
  },
  {
   "cell_type": "code",
   "execution_count": 8,
   "metadata": {},
   "outputs": [],
   "source": [
    "#Round the Datetime column to the nearest hour mark:\n",
    "\n",
    "bike_data['DateTime'] = bike_data['DateTime'].dt.round('H')"
   ]
  },
  {
   "cell_type": "code",
   "execution_count": null,
   "metadata": {},
   "outputs": [],
   "source": [
    "bike_data.head()\n",
    "bike_data.tail()"
   ]
  },
  {
   "cell_type": "code",
   "execution_count": 10,
   "metadata": {},
   "outputs": [
    {
     "data": {
      "text/html": [
       "<div>\n",
       "<style scoped>\n",
       "    .dataframe tbody tr th:only-of-type {\n",
       "        vertical-align: middle;\n",
       "    }\n",
       "\n",
       "    .dataframe tbody tr th {\n",
       "        vertical-align: top;\n",
       "    }\n",
       "\n",
       "    .dataframe thead th {\n",
       "        text-align: right;\n",
       "    }\n",
       "</style>\n",
       "<table border=\"1\" class=\"dataframe\">\n",
       "  <thead>\n",
       "    <tr style=\"text-align: right;\">\n",
       "      <th></th>\n",
       "      <th>Rental Id</th>\n",
       "      <th>Duration</th>\n",
       "      <th>Bike Id</th>\n",
       "      <th>EndStation Id</th>\n",
       "      <th>StartStation Id</th>\n",
       "    </tr>\n",
       "  </thead>\n",
       "  <tbody>\n",
       "    <tr>\n",
       "      <th>count</th>\n",
       "      <td>1.050036e+07</td>\n",
       "      <td>1.050036e+07</td>\n",
       "      <td>1.050036e+07</td>\n",
       "      <td>1.050036e+07</td>\n",
       "      <td>1.050036e+07</td>\n",
       "    </tr>\n",
       "    <tr>\n",
       "      <th>mean</th>\n",
       "      <td>7.778623e+07</td>\n",
       "      <td>1.196721e+03</td>\n",
       "      <td>8.231941e+03</td>\n",
       "      <td>3.673223e+02</td>\n",
       "      <td>3.693904e+02</td>\n",
       "    </tr>\n",
       "    <tr>\n",
       "      <th>std</th>\n",
       "      <td>3.165147e+06</td>\n",
       "      <td>3.490948e+03</td>\n",
       "      <td>4.645808e+03</td>\n",
       "      <td>2.410667e+02</td>\n",
       "      <td>2.408021e+02</td>\n",
       "    </tr>\n",
       "    <tr>\n",
       "      <th>min</th>\n",
       "      <td>7.229081e+07</td>\n",
       "      <td>6.000000e+01</td>\n",
       "      <td>1.000000e+00</td>\n",
       "      <td>1.000000e+00</td>\n",
       "      <td>1.000000e+00</td>\n",
       "    </tr>\n",
       "    <tr>\n",
       "      <th>25%</th>\n",
       "      <td>7.505265e+07</td>\n",
       "      <td>4.800000e+02</td>\n",
       "      <td>4.229000e+03</td>\n",
       "      <td>1.600000e+02</td>\n",
       "      <td>1.620000e+02</td>\n",
       "    </tr>\n",
       "    <tr>\n",
       "      <th>50%</th>\n",
       "      <td>7.779078e+07</td>\n",
       "      <td>8.400000e+02</td>\n",
       "      <td>8.304000e+03</td>\n",
       "      <td>3.300000e+02</td>\n",
       "      <td>3.340000e+02</td>\n",
       "    </tr>\n",
       "    <tr>\n",
       "      <th>75%</th>\n",
       "      <td>8.052135e+07</td>\n",
       "      <td>1.260000e+03</td>\n",
       "      <td>1.252800e+04</td>\n",
       "      <td>5.730000e+02</td>\n",
       "      <td>5.740000e+02</td>\n",
       "    </tr>\n",
       "    <tr>\n",
       "      <th>max</th>\n",
       "      <td>8.327015e+07</td>\n",
       "      <td>5.671800e+05</td>\n",
       "      <td>1.638200e+04</td>\n",
       "      <td>8.390000e+02</td>\n",
       "      <td>8.390000e+02</td>\n",
       "    </tr>\n",
       "  </tbody>\n",
       "</table>\n",
       "</div>"
      ],
      "text/plain": [
       "          Rental Id      Duration       Bike Id  EndStation Id  \\\n",
       "count  1.050036e+07  1.050036e+07  1.050036e+07   1.050036e+07   \n",
       "mean   7.778623e+07  1.196721e+03  8.231941e+03   3.673223e+02   \n",
       "std    3.165147e+06  3.490948e+03  4.645808e+03   2.410667e+02   \n",
       "min    7.229081e+07  6.000000e+01  1.000000e+00   1.000000e+00   \n",
       "25%    7.505265e+07  4.800000e+02  4.229000e+03   1.600000e+02   \n",
       "50%    7.779078e+07  8.400000e+02  8.304000e+03   3.300000e+02   \n",
       "75%    8.052135e+07  1.260000e+03  1.252800e+04   5.730000e+02   \n",
       "max    8.327015e+07  5.671800e+05  1.638200e+04   8.390000e+02   \n",
       "\n",
       "       StartStation Id  \n",
       "count     1.050036e+07  \n",
       "mean      3.693904e+02  \n",
       "std       2.408021e+02  \n",
       "min       1.000000e+00  \n",
       "25%       1.620000e+02  \n",
       "50%       3.340000e+02  \n",
       "75%       5.740000e+02  \n",
       "max       8.390000e+02  "
      ]
     },
     "execution_count": 10,
     "metadata": {},
     "output_type": "execute_result"
    }
   ],
   "source": [
    "bike_data.describe()"
   ]
  },
  {
   "cell_type": "code",
   "execution_count": 11,
   "metadata": {},
   "outputs": [],
   "source": [
    "#Converting variables to appropriate data types:\n",
    "\n",
    "bike_data['Rental Id'] = bike_data['Rental Id'].astype('category')\n",
    "bike_data['Bike Id'] = bike_data['Bike Id'].astype('category')\n",
    "bike_data['EndStation Id'] = bike_data['EndStation Id'].astype('category')\n",
    "bike_data['StartStation Id'] = bike_data['StartStation Id'].astype('category')"
   ]
  },
  {
   "cell_type": "code",
   "execution_count": 54,
   "metadata": {},
   "outputs": [
    {
     "data": {
      "text/html": [
       "<div>\n",
       "<style scoped>\n",
       "    .dataframe tbody tr th:only-of-type {\n",
       "        vertical-align: middle;\n",
       "    }\n",
       "\n",
       "    .dataframe tbody tr th {\n",
       "        vertical-align: top;\n",
       "    }\n",
       "\n",
       "    .dataframe thead th {\n",
       "        text-align: right;\n",
       "    }\n",
       "</style>\n",
       "<table border=\"1\" class=\"dataframe\">\n",
       "  <thead>\n",
       "    <tr style=\"text-align: right;\">\n",
       "      <th></th>\n",
       "      <th>Duration</th>\n",
       "    </tr>\n",
       "  </thead>\n",
       "  <tbody>\n",
       "    <tr>\n",
       "      <th>count</th>\n",
       "      <td>1.030584e+07</td>\n",
       "    </tr>\n",
       "    <tr>\n",
       "      <th>mean</th>\n",
       "      <td>1.134195e+03</td>\n",
       "    </tr>\n",
       "    <tr>\n",
       "      <th>std</th>\n",
       "      <td>1.419608e+03</td>\n",
       "    </tr>\n",
       "    <tr>\n",
       "      <th>min</th>\n",
       "      <td>1.800000e+02</td>\n",
       "    </tr>\n",
       "    <tr>\n",
       "      <th>25%</th>\n",
       "      <td>4.800000e+02</td>\n",
       "    </tr>\n",
       "    <tr>\n",
       "      <th>50%</th>\n",
       "      <td>8.400000e+02</td>\n",
       "    </tr>\n",
       "    <tr>\n",
       "      <th>75%</th>\n",
       "      <td>1.260000e+03</td>\n",
       "    </tr>\n",
       "    <tr>\n",
       "      <th>max</th>\n",
       "      <td>2.994000e+04</td>\n",
       "    </tr>\n",
       "  </tbody>\n",
       "</table>\n",
       "</div>"
      ],
      "text/plain": [
       "           Duration\n",
       "count  1.030584e+07\n",
       "mean   1.134195e+03\n",
       "std    1.419608e+03\n",
       "min    1.800000e+02\n",
       "25%    4.800000e+02\n",
       "50%    8.400000e+02\n",
       "75%    1.260000e+03\n",
       "max    2.994000e+04"
      ]
     },
     "execution_count": 54,
     "metadata": {},
     "output_type": "execute_result"
    }
   ],
   "source": [
    "bike_data.describe()"
   ]
  },
  {
   "cell_type": "code",
   "execution_count": 51,
   "metadata": {},
   "outputs": [
    {
     "data": {
      "text/html": [
       "<div>\n",
       "<style scoped>\n",
       "    .dataframe tbody tr th:only-of-type {\n",
       "        vertical-align: middle;\n",
       "    }\n",
       "\n",
       "    .dataframe tbody tr th {\n",
       "        vertical-align: top;\n",
       "    }\n",
       "\n",
       "    .dataframe thead th {\n",
       "        text-align: right;\n",
       "    }\n",
       "</style>\n",
       "<table border=\"1\" class=\"dataframe\">\n",
       "  <thead>\n",
       "    <tr style=\"text-align: right;\">\n",
       "      <th></th>\n",
       "      <th>Rental Id</th>\n",
       "      <th>Duration</th>\n",
       "      <th>Bike Id</th>\n",
       "      <th>End Date</th>\n",
       "      <th>EndStation Id</th>\n",
       "      <th>EndStation Name</th>\n",
       "      <th>Start Date</th>\n",
       "      <th>StartStation Id</th>\n",
       "      <th>StartStation Name</th>\n",
       "      <th>DateTime</th>\n",
       "    </tr>\n",
       "  </thead>\n",
       "  <tbody>\n",
       "    <tr>\n",
       "      <th>0</th>\n",
       "      <td>73768697</td>\n",
       "      <td>1620</td>\n",
       "      <td>7457</td>\n",
       "      <td>2018-03-10 12:41:00</td>\n",
       "      <td>807</td>\n",
       "      <td>Bevington Road West, North Kensington</td>\n",
       "      <td>2018-03-10 12:14:00</td>\n",
       "      <td>647</td>\n",
       "      <td>Richmond Way, Shepherd's Bush</td>\n",
       "      <td>2018-03-10 12:00:00</td>\n",
       "    </tr>\n",
       "    <tr>\n",
       "      <th>1</th>\n",
       "      <td>73703818</td>\n",
       "      <td>180</td>\n",
       "      <td>10899</td>\n",
       "      <td>2018-03-07 15:14:00</td>\n",
       "      <td>446</td>\n",
       "      <td>York Hall, Bethnal Green</td>\n",
       "      <td>2018-03-07 15:11:00</td>\n",
       "      <td>722</td>\n",
       "      <td>Finnis Street, Bethnal Green</td>\n",
       "      <td>2018-03-07 15:00:00</td>\n",
       "    </tr>\n",
       "    <tr>\n",
       "      <th>2</th>\n",
       "      <td>73729421</td>\n",
       "      <td>1020</td>\n",
       "      <td>4813</td>\n",
       "      <td>2018-03-08 13:57:00</td>\n",
       "      <td>159</td>\n",
       "      <td>Great Marlborough Street, Soho</td>\n",
       "      <td>2018-03-08 13:40:00</td>\n",
       "      <td>797</td>\n",
       "      <td>Ossulston Street, Somers Town</td>\n",
       "      <td>2018-03-08 14:00:00</td>\n",
       "    </tr>\n",
       "  </tbody>\n",
       "</table>\n",
       "</div>"
      ],
      "text/plain": [
       "  Rental Id  Duration Bike Id            End Date EndStation Id  \\\n",
       "0  73768697      1620    7457 2018-03-10 12:41:00           807   \n",
       "1  73703818       180   10899 2018-03-07 15:14:00           446   \n",
       "2  73729421      1020    4813 2018-03-08 13:57:00           159   \n",
       "\n",
       "                         EndStation Name          Start Date StartStation Id  \\\n",
       "0  Bevington Road West, North Kensington 2018-03-10 12:14:00             647   \n",
       "1               York Hall, Bethnal Green 2018-03-07 15:11:00             722   \n",
       "2         Great Marlborough Street, Soho 2018-03-08 13:40:00             797   \n",
       "\n",
       "               StartStation Name            DateTime  \n",
       "0  Richmond Way, Shepherd's Bush 2018-03-10 12:00:00  \n",
       "1   Finnis Street, Bethnal Green 2018-03-07 15:00:00  \n",
       "2  Ossulston Street, Somers Town 2018-03-08 14:00:00  "
      ]
     },
     "execution_count": 51,
     "metadata": {},
     "output_type": "execute_result"
    }
   ],
   "source": [
    "bike_data.head(3)"
   ]
  },
  {
   "cell_type": "code",
   "execution_count": 50,
   "metadata": {},
   "outputs": [
    {
     "data": {
      "text/html": [
       "<div>\n",
       "<style scoped>\n",
       "    .dataframe tbody tr th:only-of-type {\n",
       "        vertical-align: middle;\n",
       "    }\n",
       "\n",
       "    .dataframe tbody tr th {\n",
       "        vertical-align: top;\n",
       "    }\n",
       "\n",
       "    .dataframe thead th {\n",
       "        text-align: right;\n",
       "    }\n",
       "</style>\n",
       "<table border=\"1\" class=\"dataframe\">\n",
       "  <thead>\n",
       "    <tr style=\"text-align: right;\">\n",
       "      <th></th>\n",
       "      <th>Rental Id</th>\n",
       "      <th>Duration</th>\n",
       "      <th>Bike Id</th>\n",
       "      <th>End Date</th>\n",
       "      <th>EndStation Id</th>\n",
       "      <th>EndStation Name</th>\n",
       "      <th>Start Date</th>\n",
       "      <th>StartStation Id</th>\n",
       "      <th>StartStation Name</th>\n",
       "      <th>DateTime</th>\n",
       "    </tr>\n",
       "  </thead>\n",
       "  <tbody>\n",
       "    <tr>\n",
       "      <th>10500355</th>\n",
       "      <td>73683071</td>\n",
       "      <td>1080</td>\n",
       "      <td>6895</td>\n",
       "      <td>2018-03-06 17:23:00</td>\n",
       "      <td>176</td>\n",
       "      <td>Gloucester Terrace, Bayswater</td>\n",
       "      <td>2018-03-06 17:05:00</td>\n",
       "      <td>303</td>\n",
       "      <td>Albert Gate, Hyde Park</td>\n",
       "      <td>2018-03-06 17:00:00</td>\n",
       "    </tr>\n",
       "    <tr>\n",
       "      <th>10500356</th>\n",
       "      <td>73672144</td>\n",
       "      <td>300</td>\n",
       "      <td>9190</td>\n",
       "      <td>2018-03-06 08:44:00</td>\n",
       "      <td>428</td>\n",
       "      <td>Exhibition Road, Knightsbridge</td>\n",
       "      <td>2018-03-06 08:39:00</td>\n",
       "      <td>303</td>\n",
       "      <td>Albert Gate, Hyde Park</td>\n",
       "      <td>2018-03-06 09:00:00</td>\n",
       "    </tr>\n",
       "    <tr>\n",
       "      <th>10500357</th>\n",
       "      <td>73670772</td>\n",
       "      <td>1020</td>\n",
       "      <td>9195</td>\n",
       "      <td>2018-03-06 08:38:00</td>\n",
       "      <td>564</td>\n",
       "      <td>Somerset House, Strand</td>\n",
       "      <td>2018-03-06 08:21:00</td>\n",
       "      <td>303</td>\n",
       "      <td>Albert Gate, Hyde Park</td>\n",
       "      <td>2018-03-06 08:00:00</td>\n",
       "    </tr>\n",
       "  </tbody>\n",
       "</table>\n",
       "</div>"
      ],
      "text/plain": [
       "         Rental Id  Duration Bike Id            End Date EndStation Id  \\\n",
       "10500355  73683071      1080    6895 2018-03-06 17:23:00           176   \n",
       "10500356  73672144       300    9190 2018-03-06 08:44:00           428   \n",
       "10500357  73670772      1020    9195 2018-03-06 08:38:00           564   \n",
       "\n",
       "                         EndStation Name          Start Date StartStation Id  \\\n",
       "10500355   Gloucester Terrace, Bayswater 2018-03-06 17:05:00             303   \n",
       "10500356  Exhibition Road, Knightsbridge 2018-03-06 08:39:00             303   \n",
       "10500357          Somerset House, Strand 2018-03-06 08:21:00             303   \n",
       "\n",
       "               StartStation Name            DateTime  \n",
       "10500355  Albert Gate, Hyde Park 2018-03-06 17:00:00  \n",
       "10500356  Albert Gate, Hyde Park 2018-03-06 09:00:00  \n",
       "10500357  Albert Gate, Hyde Park 2018-03-06 08:00:00  "
      ]
     },
     "execution_count": 50,
     "metadata": {},
     "output_type": "execute_result"
    }
   ],
   "source": [
    "bike_data.tail(3)"
   ]
  },
  {
   "cell_type": "code",
   "execution_count": 14,
   "metadata": {},
   "outputs": [
    {
     "data": {
      "text/plain": [
       "(10500359, 10)"
      ]
     },
     "execution_count": 14,
     "metadata": {},
     "output_type": "execute_result"
    }
   ],
   "source": [
    "bike_data.shape"
   ]
  },
  {
   "cell_type": "code",
   "execution_count": 15,
   "metadata": {},
   "outputs": [],
   "source": [
    "#Save Clean Data:\n",
    "\n",
    "bike_data.to_csv('london_bike_clean.csv', index = False, header = True)"
   ]
  },
  {
   "cell_type": "markdown",
   "metadata": {},
   "source": [
    "## Statistics of the yearly average number of rentals per bike:"
   ]
  },
  {
   "cell_type": "code",
   "execution_count": 16,
   "metadata": {},
   "outputs": [
    {
     "data": {
      "text/plain": [
       "count    12939.000000\n",
       "mean       811.527862\n",
       "std        266.464512\n",
       "min          1.000000\n",
       "25%        714.000000\n",
       "50%        874.000000\n",
       "75%        978.000000\n",
       "max       1480.000000\n",
       "Name: Rental Id, dtype: float64"
      ]
     },
     "execution_count": 16,
     "metadata": {},
     "output_type": "execute_result"
    }
   ],
   "source": [
    "#Statistics of the yearly average number of rentals per bike:\n",
    "\n",
    "bike_data[['Rental Id', 'Bike Id']].groupby('Bike Id').count().sort_values(by = \n",
    "                                                                         'Rental Id', ascending = False)['Rental Id'].describe()"
   ]
  },
  {
   "cell_type": "code",
   "execution_count": 17,
   "metadata": {},
   "outputs": [
    {
     "data": {
      "text/plain": [
       "<matplotlib.axes._subplots.AxesSubplot at 0x22173af92b0>"
      ]
     },
     "execution_count": 17,
     "metadata": {},
     "output_type": "execute_result"
    },
    {
     "data": {
      "image/png": "[encoded data removed]",
      "text/plain": [
       "<Figure size 432x288 with 1 Axes>"
      ]
     },
     "metadata": {
      "needs_background": "light"
     },
     "output_type": "display_data"
    }
   ],
   "source": [
    "bike_data[['Rental Id', 'Bike Id']].groupby('Bike Id').count().sort_values(by = \n",
    "                                                                         'Rental Id', ascending = False)['Rental Id'].hist()"
   ]
  },
  {
   "cell_type": "markdown",
   "metadata": {},
   "source": [
    "# Statistics of the average duration of rentals per bike"
   ]
  },
  {
   "cell_type": "code",
   "execution_count": 18,
   "metadata": {},
   "outputs": [
    {
     "data": {
      "text/html": [
       "<div>\n",
       "<style scoped>\n",
       "    .dataframe tbody tr th:only-of-type {\n",
       "        vertical-align: middle;\n",
       "    }\n",
       "\n",
       "    .dataframe tbody tr th {\n",
       "        vertical-align: top;\n",
       "    }\n",
       "\n",
       "    .dataframe thead th {\n",
       "        text-align: right;\n",
       "    }\n",
       "</style>\n",
       "<table border=\"1\" class=\"dataframe\">\n",
       "  <thead>\n",
       "    <tr style=\"text-align: right;\">\n",
       "      <th></th>\n",
       "      <th>Duration</th>\n",
       "    </tr>\n",
       "  </thead>\n",
       "  <tbody>\n",
       "    <tr>\n",
       "      <th>count</th>\n",
       "      <td>12939.000000</td>\n",
       "    </tr>\n",
       "    <tr>\n",
       "      <th>mean</th>\n",
       "      <td>1194.737768</td>\n",
       "    </tr>\n",
       "    <tr>\n",
       "      <th>std</th>\n",
       "      <td>217.497265</td>\n",
       "    </tr>\n",
       "    <tr>\n",
       "      <th>min</th>\n",
       "      <td>60.000000</td>\n",
       "    </tr>\n",
       "    <tr>\n",
       "      <th>25%</th>\n",
       "      <td>1103.961230</td>\n",
       "    </tr>\n",
       "    <tr>\n",
       "      <th>50%</th>\n",
       "      <td>1169.914367</td>\n",
       "    </tr>\n",
       "    <tr>\n",
       "      <th>75%</th>\n",
       "      <td>1253.787879</td>\n",
       "    </tr>\n",
       "    <tr>\n",
       "      <th>max</th>\n",
       "      <td>15811.578947</td>\n",
       "    </tr>\n",
       "  </tbody>\n",
       "</table>\n",
       "</div>"
      ],
      "text/plain": [
       "           Duration\n",
       "count  12939.000000\n",
       "mean    1194.737768\n",
       "std      217.497265\n",
       "min       60.000000\n",
       "25%     1103.961230\n",
       "50%     1169.914367\n",
       "75%     1253.787879\n",
       "max    15811.578947"
      ]
     },
     "execution_count": 18,
     "metadata": {},
     "output_type": "execute_result"
    }
   ],
   "source": [
    "bike_data[['Bike Id', 'Duration']].groupby('Bike Id').mean().describe()"
   ]
  },
  {
   "cell_type": "code",
   "execution_count": 19,
   "metadata": {},
   "outputs": [
    {
     "data": {
      "text/plain": [
       "array([[<matplotlib.axes._subplots.AxesSubplot object at 0x000002216B61F670>]],\n",
       "      dtype=object)"
      ]
     },
     "execution_count": 19,
     "metadata": {},
     "output_type": "execute_result"
    },
    {
     "data": {
      "image/png": "[encoded data removed]",
      "text/plain": [
       "<Figure size 432x288 with 1 Axes>"
      ]
     },
     "metadata": {
      "needs_background": "light"
     },
     "output_type": "display_data"
    }
   ],
   "source": [
    "bike_data[['Bike Id', 'Duration']].groupby('Bike Id').mean().hist()"
   ]
  },
  {
   "cell_type": "markdown",
   "metadata": {},
   "source": [
    "An aggressive outlier can be observed in the rental duration data, clocking 15811 seconds on average, compared to the median value of 1169 seconds. "
   ]
  },
  {
   "cell_type": "code",
   "execution_count": 20,
   "metadata": {},
   "outputs": [],
   "source": [
    "bike_data = bike_data[(bike_data['Duration'] < 30000) & (bike_data['Duration'] > 120)]"
   ]
  },
  {
   "cell_type": "code",
   "execution_count": 21,
   "metadata": {},
   "outputs": [
    {
     "data": {
      "text/html": [
       "<div>\n",
       "<style scoped>\n",
       "    .dataframe tbody tr th:only-of-type {\n",
       "        vertical-align: middle;\n",
       "    }\n",
       "\n",
       "    .dataframe tbody tr th {\n",
       "        vertical-align: top;\n",
       "    }\n",
       "\n",
       "    .dataframe thead th {\n",
       "        text-align: right;\n",
       "    }\n",
       "</style>\n",
       "<table border=\"1\" class=\"dataframe\">\n",
       "  <thead>\n",
       "    <tr style=\"text-align: right;\">\n",
       "      <th></th>\n",
       "      <th>Duration</th>\n",
       "    </tr>\n",
       "  </thead>\n",
       "  <tbody>\n",
       "    <tr>\n",
       "      <th>count</th>\n",
       "      <td>12938.000000</td>\n",
       "    </tr>\n",
       "    <tr>\n",
       "      <th>mean</th>\n",
       "      <td>1130.356773</td>\n",
       "    </tr>\n",
       "    <tr>\n",
       "      <th>std</th>\n",
       "      <td>94.950550</td>\n",
       "    </tr>\n",
       "    <tr>\n",
       "      <th>min</th>\n",
       "      <td>450.000000</td>\n",
       "    </tr>\n",
       "    <tr>\n",
       "      <th>25%</th>\n",
       "      <td>1084.320645</td>\n",
       "    </tr>\n",
       "    <tr>\n",
       "      <th>50%</th>\n",
       "      <td>1131.121764</td>\n",
       "    </tr>\n",
       "    <tr>\n",
       "      <th>75%</th>\n",
       "      <td>1177.937537</td>\n",
       "    </tr>\n",
       "    <tr>\n",
       "      <th>max</th>\n",
       "      <td>2812.500000</td>\n",
       "    </tr>\n",
       "  </tbody>\n",
       "</table>\n",
       "</div>"
      ],
      "text/plain": [
       "           Duration\n",
       "count  12938.000000\n",
       "mean    1130.356773\n",
       "std       94.950550\n",
       "min      450.000000\n",
       "25%     1084.320645\n",
       "50%     1131.121764\n",
       "75%     1177.937537\n",
       "max     2812.500000"
      ]
     },
     "execution_count": 21,
     "metadata": {},
     "output_type": "execute_result"
    }
   ],
   "source": [
    "bike_data[['Bike Id', 'Duration']].groupby('Bike Id').mean().describe()"
   ]
  },
  {
   "cell_type": "code",
   "execution_count": 22,
   "metadata": {},
   "outputs": [
    {
     "data": {
      "text/html": [
       "<div>\n",
       "<style scoped>\n",
       "    .dataframe tbody tr th:only-of-type {\n",
       "        vertical-align: middle;\n",
       "    }\n",
       "\n",
       "    .dataframe tbody tr th {\n",
       "        vertical-align: top;\n",
       "    }\n",
       "\n",
       "    .dataframe thead th {\n",
       "        text-align: right;\n",
       "    }\n",
       "</style>\n",
       "<table border=\"1\" class=\"dataframe\">\n",
       "  <thead>\n",
       "    <tr style=\"text-align: right;\">\n",
       "      <th></th>\n",
       "      <th>Bike Id</th>\n",
       "      <th>Duration</th>\n",
       "    </tr>\n",
       "  </thead>\n",
       "  <tbody>\n",
       "    <tr>\n",
       "      <th>0</th>\n",
       "      <td>1</td>\n",
       "      <td>1189.720812</td>\n",
       "    </tr>\n",
       "    <tr>\n",
       "      <th>1</th>\n",
       "      <td>2</td>\n",
       "      <td>891.982759</td>\n",
       "    </tr>\n",
       "    <tr>\n",
       "      <th>2</th>\n",
       "      <td>4</td>\n",
       "      <td>1155.314917</td>\n",
       "    </tr>\n",
       "    <tr>\n",
       "      <th>3</th>\n",
       "      <td>5</td>\n",
       "      <td>1092.708333</td>\n",
       "    </tr>\n",
       "    <tr>\n",
       "      <th>4</th>\n",
       "      <td>6</td>\n",
       "      <td>1156.630037</td>\n",
       "    </tr>\n",
       "    <tr>\n",
       "      <th>...</th>\n",
       "      <td>...</td>\n",
       "      <td>...</td>\n",
       "    </tr>\n",
       "    <tr>\n",
       "      <th>12934</th>\n",
       "      <td>16376</td>\n",
       "      <td>1628.780488</td>\n",
       "    </tr>\n",
       "    <tr>\n",
       "      <th>12935</th>\n",
       "      <td>16378</td>\n",
       "      <td>1161.509434</td>\n",
       "    </tr>\n",
       "    <tr>\n",
       "      <th>12936</th>\n",
       "      <td>16379</td>\n",
       "      <td>770.400000</td>\n",
       "    </tr>\n",
       "    <tr>\n",
       "      <th>12937</th>\n",
       "      <td>16380</td>\n",
       "      <td>2050.909091</td>\n",
       "    </tr>\n",
       "    <tr>\n",
       "      <th>12938</th>\n",
       "      <td>16382</td>\n",
       "      <td>1368.292683</td>\n",
       "    </tr>\n",
       "  </tbody>\n",
       "</table>\n",
       "<p>12939 rows × 2 columns</p>\n",
       "</div>"
      ],
      "text/plain": [
       "      Bike Id     Duration\n",
       "0           1  1189.720812\n",
       "1           2   891.982759\n",
       "2           4  1155.314917\n",
       "3           5  1092.708333\n",
       "4           6  1156.630037\n",
       "...       ...          ...\n",
       "12934   16376  1628.780488\n",
       "12935   16378  1161.509434\n",
       "12936   16379   770.400000\n",
       "12937   16380  2050.909091\n",
       "12938   16382  1368.292683\n",
       "\n",
       "[12939 rows x 2 columns]"
      ]
     },
     "execution_count": 22,
     "metadata": {},
     "output_type": "execute_result"
    }
   ],
   "source": [
    "#New duration data with outlier removed:\n",
    "\n",
    "mean_duration = pd.DataFrame(bike_data[['Bike Id', 'Duration']].groupby('Bike Id').mean())\n",
    "mean_duration.reset_index()\n"
   ]
  },
  {
   "cell_type": "code",
   "execution_count": 23,
   "metadata": {},
   "outputs": [
    {
     "name": "stderr",
     "output_type": "stream",
     "text": [
      "C:\\Users\\philg\\anaconda3\\lib\\site-packages\\numpy\\lib\\histograms.py:839: RuntimeWarning: invalid value encountered in greater_equal\n",
      "  keep = (tmp_a >= first_edge)\n",
      "C:\\Users\\philg\\anaconda3\\lib\\site-packages\\numpy\\lib\\histograms.py:840: RuntimeWarning: invalid value encountered in less_equal\n",
      "  keep &= (tmp_a <= last_edge)\n"
     ]
    },
    {
     "data": {
      "text/plain": [
       "(850.0, 1350.0)"
      ]
     },
     "execution_count": 23,
     "metadata": {},
     "output_type": "execute_result"
    },
    {
     "data": {
      "image/png": "[encoded data removed]",
      "text/plain": [
       "<Figure size 432x288 with 1 Axes>"
      ]
     },
     "metadata": {
      "needs_background": "light"
     },
     "output_type": "display_data"
    }
   ],
   "source": [
    "import matplotlib.pyplot as plt\n",
    "\n",
    "n, bins, patches = plt.hist(mean_duration['Duration'], 500, density=True)\n",
    "plt.xlim(850,1350)"
   ]
  },
  {
   "cell_type": "code",
   "execution_count": 24,
   "metadata": {},
   "outputs": [
    {
     "data": {
      "image/png": "[encoded data removed]",
      "text/plain": [
       "<Figure size 432x288 with 1 Axes>"
      ]
     },
     "metadata": {
      "needs_background": "light"
     },
     "output_type": "display_data"
    }
   ],
   "source": [
    "n, bins, patches = plt.hist((bike_data[['Bike Id', 'Duration']].groupby('Bike Id').sum()/360)['Duration'], 50, density = True)"
   ]
  },
  {
   "cell_type": "code",
   "execution_count": 25,
   "metadata": {},
   "outputs": [
    {
     "data": {
      "text/html": [
       "<div>\n",
       "<style scoped>\n",
       "    .dataframe tbody tr th:only-of-type {\n",
       "        vertical-align: middle;\n",
       "    }\n",
       "\n",
       "    .dataframe tbody tr th {\n",
       "        vertical-align: top;\n",
       "    }\n",
       "\n",
       "    .dataframe thead th {\n",
       "        text-align: right;\n",
       "    }\n",
       "</style>\n",
       "<table border=\"1\" class=\"dataframe\">\n",
       "  <thead>\n",
       "    <tr style=\"text-align: right;\">\n",
       "      <th></th>\n",
       "      <th>Duration</th>\n",
       "    </tr>\n",
       "  </thead>\n",
       "  <tbody>\n",
       "    <tr>\n",
       "      <th>count</th>\n",
       "      <td>1.030584e+07</td>\n",
       "    </tr>\n",
       "    <tr>\n",
       "      <th>mean</th>\n",
       "      <td>1.134195e+03</td>\n",
       "    </tr>\n",
       "    <tr>\n",
       "      <th>std</th>\n",
       "      <td>1.419608e+03</td>\n",
       "    </tr>\n",
       "    <tr>\n",
       "      <th>min</th>\n",
       "      <td>1.800000e+02</td>\n",
       "    </tr>\n",
       "    <tr>\n",
       "      <th>25%</th>\n",
       "      <td>4.800000e+02</td>\n",
       "    </tr>\n",
       "    <tr>\n",
       "      <th>50%</th>\n",
       "      <td>8.400000e+02</td>\n",
       "    </tr>\n",
       "    <tr>\n",
       "      <th>75%</th>\n",
       "      <td>1.260000e+03</td>\n",
       "    </tr>\n",
       "    <tr>\n",
       "      <th>max</th>\n",
       "      <td>2.994000e+04</td>\n",
       "    </tr>\n",
       "  </tbody>\n",
       "</table>\n",
       "</div>"
      ],
      "text/plain": [
       "           Duration\n",
       "count  1.030584e+07\n",
       "mean   1.134195e+03\n",
       "std    1.419608e+03\n",
       "min    1.800000e+02\n",
       "25%    4.800000e+02\n",
       "50%    8.400000e+02\n",
       "75%    1.260000e+03\n",
       "max    2.994000e+04"
      ]
     },
     "execution_count": 25,
     "metadata": {},
     "output_type": "execute_result"
    }
   ],
   "source": [
    "bike_data[['Rental Id', 'Duration']].groupby('Rental Id').mean().describe()"
   ]
  },
  {
   "cell_type": "markdown",
   "metadata": {},
   "source": [
    "## Famous Pickup and Dropoff Locations"
   ]
  },
  {
   "cell_type": "code",
   "execution_count": 26,
   "metadata": {},
   "outputs": [
    {
     "data": {
      "text/html": [
       "<div>\n",
       "<style scoped>\n",
       "    .dataframe tbody tr th:only-of-type {\n",
       "        vertical-align: middle;\n",
       "    }\n",
       "\n",
       "    .dataframe tbody tr th {\n",
       "        vertical-align: top;\n",
       "    }\n",
       "\n",
       "    .dataframe thead th {\n",
       "        text-align: right;\n",
       "    }\n",
       "</style>\n",
       "<table border=\"1\" class=\"dataframe\">\n",
       "  <thead>\n",
       "    <tr style=\"text-align: right;\">\n",
       "      <th></th>\n",
       "      <th>Rental Id</th>\n",
       "    </tr>\n",
       "    <tr>\n",
       "      <th>StartStation Name</th>\n",
       "      <th></th>\n",
       "    </tr>\n",
       "  </thead>\n",
       "  <tbody>\n",
       "    <tr>\n",
       "      <th>Belgrove Street , King's Cross</th>\n",
       "      <td>91610</td>\n",
       "    </tr>\n",
       "    <tr>\n",
       "      <th>Hyde Park Corner, Hyde Park</th>\n",
       "      <td>84989</td>\n",
       "    </tr>\n",
       "    <tr>\n",
       "      <th>Waterloo Station 3, Waterloo</th>\n",
       "      <td>80201</td>\n",
       "    </tr>\n",
       "    <tr>\n",
       "      <th>Albert Gate, Hyde Park</th>\n",
       "      <td>61233</td>\n",
       "    </tr>\n",
       "    <tr>\n",
       "      <th>Black Lion Gate, Kensington Gardens</th>\n",
       "      <td>60949</td>\n",
       "    </tr>\n",
       "  </tbody>\n",
       "</table>\n",
       "</div>"
      ],
      "text/plain": [
       "                                     Rental Id\n",
       "StartStation Name                             \n",
       "Belgrove Street , King's Cross           91610\n",
       "Hyde Park Corner, Hyde Park              84989\n",
       "Waterloo Station 3, Waterloo             80201\n",
       "Albert Gate, Hyde Park                   61233\n",
       "Black Lion Gate, Kensington Gardens      60949"
      ]
     },
     "execution_count": 26,
     "metadata": {},
     "output_type": "execute_result"
    }
   ],
   "source": [
    "# most famous pick up stations\n",
    "bike_data[['Rental Id', 'StartStation Name']].groupby('StartStation Name').count().sort_values(by='Rental Id', ascending = False).head()"
   ]
  },
  {
   "cell_type": "code",
   "execution_count": 27,
   "metadata": {},
   "outputs": [],
   "source": [
    "pickup = pd.DataFrame(bike_data[['Rental Id', 'StartStation Name']].groupby('StartStation Name').count().sort_values(by='Rental Id', ascending = False).head(10))"
   ]
  },
  {
   "cell_type": "code",
   "execution_count": 28,
   "metadata": {},
   "outputs": [],
   "source": [
    "pickup.reset_index(inplace = True)\n",
    "pickup = pickup.sort_values('Rental Id')\n"
   ]
  },
  {
   "cell_type": "code",
   "execution_count": 29,
   "metadata": {},
   "outputs": [
    {
     "data": {
      "image/png": "[encoded data removed]",
      "text/plain": [
       "<Figure size 432x288 with 1 Axes>"
      ]
     },
     "metadata": {
      "needs_background": "light"
     },
     "output_type": "display_data"
    }
   ],
   "source": [
    "\n",
    "x = pickup['StartStation Name']\n",
    "y = pickup['Rental Id']\n",
    "\n",
    "x_pos = [i for i, _ in enumerate(x)]\n",
    "\n",
    "plt.barh(x_pos, y)\n",
    "plt.ylabel(\"Station Name\")\n",
    "plt.xlabel(\"# Of Rentals\")\n",
    "plt.title(\"Rentals Per Station in 2018\")\n",
    "\n",
    "plt.yticks(x_pos, x)\n",
    "\n",
    "plt.show()"
   ]
  },
  {
   "cell_type": "code",
   "execution_count": 30,
   "metadata": {},
   "outputs": [
    {
     "data": {
      "text/html": [
       "<div>\n",
       "<style scoped>\n",
       "    .dataframe tbody tr th:only-of-type {\n",
       "        vertical-align: middle;\n",
       "    }\n",
       "\n",
       "    .dataframe tbody tr th {\n",
       "        vertical-align: top;\n",
       "    }\n",
       "\n",
       "    .dataframe thead th {\n",
       "        text-align: right;\n",
       "    }\n",
       "</style>\n",
       "<table border=\"1\" class=\"dataframe\">\n",
       "  <thead>\n",
       "    <tr style=\"text-align: right;\">\n",
       "      <th></th>\n",
       "      <th>Rental Id</th>\n",
       "    </tr>\n",
       "    <tr>\n",
       "      <th>EndStation Name</th>\n",
       "      <th></th>\n",
       "    </tr>\n",
       "  </thead>\n",
       "  <tbody>\n",
       "    <tr>\n",
       "      <th>Belgrove Street , King's Cross</th>\n",
       "      <td>89658</td>\n",
       "    </tr>\n",
       "    <tr>\n",
       "      <th>Hyde Park Corner, Hyde Park</th>\n",
       "      <td>85073</td>\n",
       "    </tr>\n",
       "    <tr>\n",
       "      <th>Waterloo Station 3, Waterloo</th>\n",
       "      <td>76736</td>\n",
       "    </tr>\n",
       "    <tr>\n",
       "      <th>Hop Exchange, The Borough</th>\n",
       "      <td>66995</td>\n",
       "    </tr>\n",
       "    <tr>\n",
       "      <th>Albert Gate, Hyde Park</th>\n",
       "      <td>61666</td>\n",
       "    </tr>\n",
       "    <tr>\n",
       "      <th>Black Lion Gate, Kensington Gardens</th>\n",
       "      <td>60297</td>\n",
       "    </tr>\n",
       "    <tr>\n",
       "      <th>Waterloo Station 1, Waterloo</th>\n",
       "      <td>58008</td>\n",
       "    </tr>\n",
       "    <tr>\n",
       "      <th>Holborn Circus, Holborn</th>\n",
       "      <td>53303</td>\n",
       "    </tr>\n",
       "    <tr>\n",
       "      <th>Brushfield Street, Liverpool Street</th>\n",
       "      <td>52731</td>\n",
       "    </tr>\n",
       "    <tr>\n",
       "      <th>Triangle Car Park, Hyde Park</th>\n",
       "      <td>50856</td>\n",
       "    </tr>\n",
       "  </tbody>\n",
       "</table>\n",
       "</div>"
      ],
      "text/plain": [
       "                                     Rental Id\n",
       "EndStation Name                               \n",
       "Belgrove Street , King's Cross           89658\n",
       "Hyde Park Corner, Hyde Park              85073\n",
       "Waterloo Station 3, Waterloo             76736\n",
       "Hop Exchange, The Borough                66995\n",
       "Albert Gate, Hyde Park                   61666\n",
       "Black Lion Gate, Kensington Gardens      60297\n",
       "Waterloo Station 1, Waterloo             58008\n",
       "Holborn Circus, Holborn                  53303\n",
       "Brushfield Street, Liverpool Street      52731\n",
       "Triangle Car Park, Hyde Park             50856"
      ]
     },
     "execution_count": 30,
     "metadata": {},
     "output_type": "execute_result"
    }
   ],
   "source": [
    "# most famous drop off stations\n",
    "bike_data[['Rental Id', 'EndStation Name']].groupby('EndStation Name').count().sort_values(by='Rental Id', ascending = False).head(10)"
   ]
  },
  {
   "cell_type": "code",
   "execution_count": 31,
   "metadata": {},
   "outputs": [
    {
     "data": {
      "image/png": "[encoded data removed]",
      "text/plain": [
       "<Figure size 432x288 with 1 Axes>"
      ]
     },
     "metadata": {
      "needs_background": "light"
     },
     "output_type": "display_data"
    }
   ],
   "source": [
    "dropoff = pd.DataFrame(bike_data[['Rental Id', 'EndStation Name']].groupby('EndStation Name').count().sort_values(by='Rental Id', ascending = False).head(10))\n",
    "dropoff.reset_index(inplace = True)\n",
    "dropoff = dropoff.sort_values('Rental Id')\n",
    "x = dropoff['EndStation Name']\n",
    "y = dropoff['Rental Id']\n",
    "\n",
    "x_pos = [i for i, _ in enumerate(x)]\n",
    "\n",
    "plt.barh(x_pos, y)\n",
    "plt.ylabel(\"Station Name\")\n",
    "plt.xlabel(\"# Of Rentals\")\n",
    "plt.title(\"Rentals Per Station in 2018\")\n",
    "\n",
    "plt.yticks(x_pos, x)\n",
    "\n",
    "plt.show()\n",
    "\n"
   ]
  },
  {
   "cell_type": "markdown",
   "metadata": {},
   "source": [
    "## Time Averages"
   ]
  },
  {
   "cell_type": "code",
   "execution_count": 32,
   "metadata": {},
   "outputs": [
    {
     "data": {
      "text/plain": [
       "<matplotlib.axes._subplots.AxesSubplot at 0x221643e4d90>"
      ]
     },
     "execution_count": 32,
     "metadata": {},
     "output_type": "execute_result"
    },
    {
     "data": {
      "image/png": "[encoded data removed]",
      "text/plain": [
       "<Figure size 432x288 with 1 Axes>"
      ]
     },
     "metadata": {
      "needs_background": "light"
     },
     "output_type": "display_data"
    }
   ],
   "source": [
    "#monthly rentals\n",
    "bike_data[['DateTime', 'Rental Id']].groupby(bike_data['DateTime'].dt.month).count()['Rental Id'].plot()"
   ]
  },
  {
   "cell_type": "code",
   "execution_count": 33,
   "metadata": {},
   "outputs": [
    {
     "data": {
      "text/plain": [
       "<matplotlib.axes._subplots.AxesSubplot at 0x2214f90ca00>"
      ]
     },
     "execution_count": 33,
     "metadata": {},
     "output_type": "execute_result"
    },
    {
     "data": {
      "image/png": "[encoded data removed]",
      "text/plain": [
       "<Figure size 432x288 with 1 Axes>"
      ]
     },
     "metadata": {
      "needs_background": "light"
     },
     "output_type": "display_data"
    }
   ],
   "source": [
    "#weekly rentals\n",
    "bike_data[['DateTime', 'Rental Id']].groupby(bike_data['DateTime'].dt.week).count()['Rental Id'].plot()"
   ]
  },
  {
   "cell_type": "code",
   "execution_count": 34,
   "metadata": {},
   "outputs": [
    {
     "data": {
      "text/plain": [
       "DateTime\n",
       "2017-12-27 00:00:00     28\n",
       "2017-12-27 01:00:00     39\n",
       "2017-12-27 02:00:00     33\n",
       "2017-12-27 03:00:00     19\n",
       "2017-12-27 04:00:00     18\n",
       "                      ... \n",
       "2019-01-01 20:00:00    361\n",
       "2019-01-01 21:00:00    289\n",
       "2019-01-01 22:00:00    265\n",
       "2019-01-01 23:00:00    225\n",
       "2019-01-02 00:00:00     42\n",
       "Name: Rental Id, Length: 8905, dtype: int64"
      ]
     },
     "execution_count": 34,
     "metadata": {},
     "output_type": "execute_result"
    }
   ],
   "source": [
    "bike_data[['DateTime', 'Rental Id']].groupby('DateTime').count()['Rental Id']"
   ]
  },
  {
   "cell_type": "markdown",
   "metadata": {},
   "source": [
    "## Average duration between pick ups per bike"
   ]
  },
  {
   "cell_type": "code",
   "execution_count": 35,
   "metadata": {},
   "outputs": [],
   "source": [
    "bike_data_time = bike_data[['Bike Id', 'Start Date', 'End Date']]"
   ]
  },
  {
   "cell_type": "code",
   "execution_count": 36,
   "metadata": {},
   "outputs": [],
   "source": [
    "bike_data_time = bike_data_time.sort_values(['Bike Id', 'Start Date'])"
   ]
  },
  {
   "cell_type": "code",
   "execution_count": 37,
   "metadata": {},
   "outputs": [
    {
     "data": {
      "text/html": [
       "<div>\n",
       "<style scoped>\n",
       "    .dataframe tbody tr th:only-of-type {\n",
       "        vertical-align: middle;\n",
       "    }\n",
       "\n",
       "    .dataframe tbody tr th {\n",
       "        vertical-align: top;\n",
       "    }\n",
       "\n",
       "    .dataframe thead th {\n",
       "        text-align: right;\n",
       "    }\n",
       "</style>\n",
       "<table border=\"1\" class=\"dataframe\">\n",
       "  <thead>\n",
       "    <tr style=\"text-align: right;\">\n",
       "      <th></th>\n",
       "      <th>Bike Id</th>\n",
       "      <th>Start Date</th>\n",
       "      <th>End Date</th>\n",
       "    </tr>\n",
       "  </thead>\n",
       "  <tbody>\n",
       "    <tr>\n",
       "      <th>9220730</th>\n",
       "      <td>1</td>\n",
       "      <td>2018-01-01 13:37:00</td>\n",
       "      <td>2018-01-01 13:59:00</td>\n",
       "    </tr>\n",
       "    <tr>\n",
       "      <th>9357037</th>\n",
       "      <td>1</td>\n",
       "      <td>2018-01-06 10:47:00</td>\n",
       "      <td>2018-01-06 11:11:00</td>\n",
       "    </tr>\n",
       "    <tr>\n",
       "      <th>9324313</th>\n",
       "      <td>1</td>\n",
       "      <td>2018-01-06 14:30:00</td>\n",
       "      <td>2018-01-06 14:39:00</td>\n",
       "    </tr>\n",
       "    <tr>\n",
       "      <th>9350269</th>\n",
       "      <td>1</td>\n",
       "      <td>2018-01-06 14:45:00</td>\n",
       "      <td>2018-01-06 14:57:00</td>\n",
       "    </tr>\n",
       "    <tr>\n",
       "      <th>9246190</th>\n",
       "      <td>1</td>\n",
       "      <td>2018-01-07 04:20:00</td>\n",
       "      <td>2018-01-07 04:34:00</td>\n",
       "    </tr>\n",
       "    <tr>\n",
       "      <th>...</th>\n",
       "      <td>...</td>\n",
       "      <td>...</td>\n",
       "      <td>...</td>\n",
       "    </tr>\n",
       "    <tr>\n",
       "      <th>9106476</th>\n",
       "      <td>16382</td>\n",
       "      <td>2018-12-30 20:42:00</td>\n",
       "      <td>2018-12-30 21:01:00</td>\n",
       "    </tr>\n",
       "    <tr>\n",
       "      <th>9140911</th>\n",
       "      <td>16382</td>\n",
       "      <td>2018-12-30 22:08:00</td>\n",
       "      <td>2018-12-30 22:42:00</td>\n",
       "    </tr>\n",
       "    <tr>\n",
       "      <th>9120445</th>\n",
       "      <td>16382</td>\n",
       "      <td>2018-12-31 16:43:00</td>\n",
       "      <td>2018-12-31 16:55:00</td>\n",
       "    </tr>\n",
       "    <tr>\n",
       "      <th>9094269</th>\n",
       "      <td>16382</td>\n",
       "      <td>2018-12-31 18:45:00</td>\n",
       "      <td>2018-12-31 19:02:00</td>\n",
       "    </tr>\n",
       "    <tr>\n",
       "      <th>9073883</th>\n",
       "      <td>16382</td>\n",
       "      <td>2019-01-01 01:30:00</td>\n",
       "      <td>2019-01-01 01:45:00</td>\n",
       "    </tr>\n",
       "  </tbody>\n",
       "</table>\n",
       "<p>10305845 rows × 3 columns</p>\n",
       "</div>"
      ],
      "text/plain": [
       "        Bike Id          Start Date            End Date\n",
       "9220730       1 2018-01-01 13:37:00 2018-01-01 13:59:00\n",
       "9357037       1 2018-01-06 10:47:00 2018-01-06 11:11:00\n",
       "9324313       1 2018-01-06 14:30:00 2018-01-06 14:39:00\n",
       "9350269       1 2018-01-06 14:45:00 2018-01-06 14:57:00\n",
       "9246190       1 2018-01-07 04:20:00 2018-01-07 04:34:00\n",
       "...         ...                 ...                 ...\n",
       "9106476   16382 2018-12-30 20:42:00 2018-12-30 21:01:00\n",
       "9140911   16382 2018-12-30 22:08:00 2018-12-30 22:42:00\n",
       "9120445   16382 2018-12-31 16:43:00 2018-12-31 16:55:00\n",
       "9094269   16382 2018-12-31 18:45:00 2018-12-31 19:02:00\n",
       "9073883   16382 2019-01-01 01:30:00 2019-01-01 01:45:00\n",
       "\n",
       "[10305845 rows x 3 columns]"
      ]
     },
     "execution_count": 37,
     "metadata": {},
     "output_type": "execute_result"
    }
   ],
   "source": [
    "bike_data_time"
   ]
  },
  {
   "cell_type": "code",
   "execution_count": 40,
   "metadata": {},
   "outputs": [],
   "source": [
    "time_delta = (bike_data_time.shift(-1)['Start Date'] - bike_data_time['End Date'])/ np.timedelta64(1, 's')"
   ]
  },
  {
   "cell_type": "code",
   "execution_count": 41,
   "metadata": {},
   "outputs": [],
   "source": [
    "df_time_delta = pd.DataFrame({'Bike Id': bike_data_time['Bike Id'], 'Delta': time_delta})"
   ]
  },
  {
   "cell_type": "code",
   "execution_count": 42,
   "metadata": {},
   "outputs": [
    {
     "data": {
      "text/html": [
       "<div>\n",
       "<style scoped>\n",
       "    .dataframe tbody tr th:only-of-type {\n",
       "        vertical-align: middle;\n",
       "    }\n",
       "\n",
       "    .dataframe tbody tr th {\n",
       "        vertical-align: top;\n",
       "    }\n",
       "\n",
       "    .dataframe thead th {\n",
       "        text-align: right;\n",
       "    }\n",
       "</style>\n",
       "<table border=\"1\" class=\"dataframe\">\n",
       "  <thead>\n",
       "    <tr style=\"text-align: right;\">\n",
       "      <th></th>\n",
       "      <th>Bike Id</th>\n",
       "      <th>Delta</th>\n",
       "    </tr>\n",
       "  </thead>\n",
       "  <tbody>\n",
       "    <tr>\n",
       "      <th>9220730</th>\n",
       "      <td>1</td>\n",
       "      <td>420480.0</td>\n",
       "    </tr>\n",
       "    <tr>\n",
       "      <th>9357037</th>\n",
       "      <td>1</td>\n",
       "      <td>11940.0</td>\n",
       "    </tr>\n",
       "    <tr>\n",
       "      <th>9324313</th>\n",
       "      <td>1</td>\n",
       "      <td>360.0</td>\n",
       "    </tr>\n",
       "    <tr>\n",
       "      <th>9350269</th>\n",
       "      <td>1</td>\n",
       "      <td>48180.0</td>\n",
       "    </tr>\n",
       "    <tr>\n",
       "      <th>9246190</th>\n",
       "      <td>1</td>\n",
       "      <td>27060.0</td>\n",
       "    </tr>\n",
       "  </tbody>\n",
       "</table>\n",
       "</div>"
      ],
      "text/plain": [
       "        Bike Id     Delta\n",
       "9220730       1  420480.0\n",
       "9357037       1   11940.0\n",
       "9324313       1     360.0\n",
       "9350269       1   48180.0\n",
       "9246190       1   27060.0"
      ]
     },
     "execution_count": 42,
     "metadata": {},
     "output_type": "execute_result"
    }
   ],
   "source": [
    "df_time_delta.head()"
   ]
  },
  {
   "cell_type": "code",
   "execution_count": 43,
   "metadata": {},
   "outputs": [],
   "source": [
    "df_time_delta = df_time_delta[(df_time_delta['Delta'] < 40000) & (df_time_delta['Delta'] > 0)]"
   ]
  },
  {
   "cell_type": "code",
   "execution_count": 44,
   "metadata": {},
   "outputs": [
    {
     "data": {
      "text/html": [
       "<div>\n",
       "<style scoped>\n",
       "    .dataframe tbody tr th:only-of-type {\n",
       "        vertical-align: middle;\n",
       "    }\n",
       "\n",
       "    .dataframe tbody tr th {\n",
       "        vertical-align: top;\n",
       "    }\n",
       "\n",
       "    .dataframe thead th {\n",
       "        text-align: right;\n",
       "    }\n",
       "</style>\n",
       "<table border=\"1\" class=\"dataframe\">\n",
       "  <thead>\n",
       "    <tr style=\"text-align: right;\">\n",
       "      <th></th>\n",
       "      <th>Bike Id</th>\n",
       "      <th>Delta</th>\n",
       "    </tr>\n",
       "  </thead>\n",
       "  <tbody>\n",
       "    <tr>\n",
       "      <th>9357037</th>\n",
       "      <td>1</td>\n",
       "      <td>11940.0</td>\n",
       "    </tr>\n",
       "    <tr>\n",
       "      <th>9324313</th>\n",
       "      <td>1</td>\n",
       "      <td>360.0</td>\n",
       "    </tr>\n",
       "    <tr>\n",
       "      <th>9246190</th>\n",
       "      <td>1</td>\n",
       "      <td>27060.0</td>\n",
       "    </tr>\n",
       "    <tr>\n",
       "      <th>9318319</th>\n",
       "      <td>1</td>\n",
       "      <td>18000.0</td>\n",
       "    </tr>\n",
       "    <tr>\n",
       "      <th>9235724</th>\n",
       "      <td>1</td>\n",
       "      <td>33120.0</td>\n",
       "    </tr>\n",
       "  </tbody>\n",
       "</table>\n",
       "</div>"
      ],
      "text/plain": [
       "        Bike Id    Delta\n",
       "9357037       1  11940.0\n",
       "9324313       1    360.0\n",
       "9246190       1  27060.0\n",
       "9318319       1  18000.0\n",
       "9235724       1  33120.0"
      ]
     },
     "execution_count": 44,
     "metadata": {},
     "output_type": "execute_result"
    }
   ],
   "source": [
    "df_time_delta.head()"
   ]
  },
  {
   "cell_type": "code",
   "execution_count": 45,
   "metadata": {},
   "outputs": [
    {
     "data": {
      "text/html": [
       "<div>\n",
       "<style scoped>\n",
       "    .dataframe tbody tr th:only-of-type {\n",
       "        vertical-align: middle;\n",
       "    }\n",
       "\n",
       "    .dataframe tbody tr th {\n",
       "        vertical-align: top;\n",
       "    }\n",
       "\n",
       "    .dataframe thead th {\n",
       "        text-align: right;\n",
       "    }\n",
       "</style>\n",
       "<table border=\"1\" class=\"dataframe\">\n",
       "  <thead>\n",
       "    <tr style=\"text-align: right;\">\n",
       "      <th></th>\n",
       "      <th>Delta</th>\n",
       "    </tr>\n",
       "  </thead>\n",
       "  <tbody>\n",
       "    <tr>\n",
       "      <th>count</th>\n",
       "      <td>12935.000000</td>\n",
       "    </tr>\n",
       "    <tr>\n",
       "      <th>mean</th>\n",
       "      <td>8881.753857</td>\n",
       "    </tr>\n",
       "    <tr>\n",
       "      <th>std</th>\n",
       "      <td>797.397003</td>\n",
       "    </tr>\n",
       "    <tr>\n",
       "      <th>min</th>\n",
       "      <td>180.000000</td>\n",
       "    </tr>\n",
       "    <tr>\n",
       "      <th>25%</th>\n",
       "      <td>8486.526216</td>\n",
       "    </tr>\n",
       "    <tr>\n",
       "      <th>50%</th>\n",
       "      <td>8860.071813</td>\n",
       "    </tr>\n",
       "    <tr>\n",
       "      <th>75%</th>\n",
       "      <td>9249.551979</td>\n",
       "    </tr>\n",
       "    <tr>\n",
       "      <th>max</th>\n",
       "      <td>30840.000000</td>\n",
       "    </tr>\n",
       "  </tbody>\n",
       "</table>\n",
       "</div>"
      ],
      "text/plain": [
       "              Delta\n",
       "count  12935.000000\n",
       "mean    8881.753857\n",
       "std      797.397003\n",
       "min      180.000000\n",
       "25%     8486.526216\n",
       "50%     8860.071813\n",
       "75%     9249.551979\n",
       "max    30840.000000"
      ]
     },
     "execution_count": 45,
     "metadata": {},
     "output_type": "execute_result"
    }
   ],
   "source": [
    "df_time_delta[['Bike Id', 'Delta']].groupby('Bike Id').mean().describe()"
   ]
  },
  {
   "cell_type": "code",
   "execution_count": 46,
   "metadata": {},
   "outputs": [
    {
     "data": {
      "text/plain": [
       "39960.0"
      ]
     },
     "execution_count": 46,
     "metadata": {},
     "output_type": "execute_result"
    }
   ],
   "source": [
    "max(df_time_delta['Delta'])"
   ]
  },
  {
   "cell_type": "code",
   "execution_count": 47,
   "metadata": {},
   "outputs": [],
   "source": [
    "x = df_time_delta[['Bike Id', 'Delta']].groupby('Bike Id').mean()['Delta']"
   ]
  },
  {
   "cell_type": "code",
   "execution_count": 48,
   "metadata": {},
   "outputs": [
    {
     "name": "stderr",
     "output_type": "stream",
     "text": [
      "C:\\Users\\philg\\anaconda3\\lib\\site-packages\\numpy\\lib\\histograms.py:839: RuntimeWarning: invalid value encountered in greater_equal\n",
      "  keep = (tmp_a >= first_edge)\n",
      "C:\\Users\\philg\\anaconda3\\lib\\site-packages\\numpy\\lib\\histograms.py:840: RuntimeWarning: invalid value encountered in less_equal\n",
      "  keep &= (tmp_a <= last_edge)\n"
     ]
    },
    {
     "data": {
      "text/plain": [
       "(6000.0, 12000.0)"
      ]
     },
     "execution_count": 48,
     "metadata": {},
     "output_type": "execute_result"
    },
    {
     "data": {
      "image/png": "[encoded data removed]",
      "text/plain": [
       "<Figure size 432x288 with 1 Axes>"
      ]
     },
     "metadata": {
      "needs_background": "light"
     },
     "output_type": "display_data"
    }
   ],
   "source": [
    "n, bins, patches = plt.hist(df_time_delta[['Bike Id', 'Delta']].groupby('Bike Id').mean()['Delta'], 500, density=True)\n",
    "plt.xlim(6000,12000)\n"
   ]
  },
  {
   "cell_type": "code",
   "execution_count": null,
   "metadata": {},
   "outputs": [],
   "source": []
  }
 ],
 "metadata": {
  "kernelspec": {
   "display_name": "Python 3",
   "language": "python",
   "name": "python3"
  },
  "language_info": {
   "codemirror_mode": {
    "name": "ipython",
    "version": 3
   },
   "file_extension": ".py",
   "mimetype": "text/x-python",
   "name": "python",
   "nbconvert_exporter": "python",
   "pygments_lexer": "ipython3",
   "version": "3.8.3"
  }
 },
 "nbformat": 4,
 "nbformat_minor": 4
}
